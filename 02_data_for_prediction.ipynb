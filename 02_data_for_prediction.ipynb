{
 "cells": [
  {
   "cell_type": "code",
   "execution_count": null,
   "id": "resident-edmonton",
   "metadata": {},
   "outputs": [],
   "source": [
    "import pandas as pd\n",
    "import numpy as np\n",
    "import matplotlib.pyplot as plt\n",
    "from sklearn import model_selection\n",
    "from sklearn import preprocessing\n",
    "from sklearn import metrics\n",
    "from sklearn import ensemble"
   ]
  },
  {
   "cell_type": "code",
   "execution_count": null,
   "id": "reverse-stretch",
   "metadata": {},
   "outputs": [],
   "source": [
    "matches = pd.read_csv('new_data/tenis.csv')\n",
    "matches = matches[matches.year > 2016]"
   ]
  },
  {
   "cell_type": "code",
   "execution_count": null,
   "id": "looking-necklace",
   "metadata": {},
   "outputs": [],
   "source": [
    "matches = matches.sort_values(by='tourney_date')"
   ]
  },
  {
   "cell_type": "code",
   "execution_count": null,
   "id": "unlike-jungle",
   "metadata": {},
   "outputs": [],
   "source": [
    "#broj pobeda pre meca za oba protivnika\n",
    "def add_score_before_that_game(df):\n",
    "    df['winner_wins'] = 0\n",
    "    df['loser_wins'] = 0\n",
    "    df['winner_loses'] = 0\n",
    "    df['loser_loses'] = 0\n",
    "    winners = dict()\n",
    "    losers = dict()\n",
    "    for ind, row in df.iterrows():\n",
    "        winner = row['winner_id']\n",
    "        loser  = row['loser_id']\n",
    "        if winner not in winners:\n",
    "            winners[winner] = 0\n",
    "        else:\n",
    "            winners[winner] += 1\n",
    "        if loser not in winners:\n",
    "            winners[loser] = 0\n",
    "        if loser not in losers:\n",
    "            losers[loser] = 0\n",
    "        else:\n",
    "            losers[loser] += 1\n",
    "        if winner not in losers:\n",
    "            losers[winner] = 0\n",
    "        df.at[ind, 'winner_wins'] = winners[winner]\n",
    "        df.at[ind, 'loser_wins'] = winners[loser]\n",
    "        df.at[ind, 'winner_loses'] = losers[winner]\n",
    "        df.at[ind, 'loser_loses'] = losers[loser]\n",
    "    return df"
   ]
  },
  {
   "cell_type": "code",
   "execution_count": null,
   "id": "wicked-nudist",
   "metadata": {},
   "outputs": [],
   "source": [
    "matches = add_score_before_that_game(matches)"
   ]
  },
  {
   "cell_type": "code",
   "execution_count": null,
   "id": "floating-video",
   "metadata": {},
   "outputs": [],
   "source": [
    "#medjusobni skor pre meca\n",
    "def add_h2h_before_that_game(df):\n",
    "    df['winner_h2h'] = 0\n",
    "    df['loser_h2h'] = 0\n",
    "    head_to_heads = dict()\n",
    "    for ind, row in df.iterrows():\n",
    "        winner = row['winner_id']\n",
    "        loser  = row['loser_id']\n",
    "        head_to_head = str(winner) + ' vs ' + str(loser)\n",
    "        head_to_head1 = str(loser) + ' vs ' + str(winner)\n",
    "        if head_to_head not in head_to_heads:\n",
    "            if head_to_head1 not in head_to_heads:\n",
    "                head_to_heads[head_to_head] = {}\n",
    "                head_to_heads[head_to_head][winner] = 0\n",
    "                head_to_heads[head_to_head][loser] = 0\n",
    "            else: \n",
    "                head_to_heads[head_to_head1][winner] += 1\n",
    "                head_to_head = head_to_head1\n",
    "        else:\n",
    "            head_to_heads[head_to_head][winner] += 1\n",
    "        df.at[ind, 'winner_h2h'] = head_to_heads[head_to_head][winner]\n",
    "        df.at[ind, 'loser_h2h'] = head_to_heads[head_to_head][loser]\n",
    "    return df"
   ]
  },
  {
   "cell_type": "code",
   "execution_count": null,
   "id": "fatty-constitutional",
   "metadata": {},
   "outputs": [],
   "source": [
    "matches = add_h2h_before_that_game(matches)"
   ]
  },
  {
   "cell_type": "code",
   "execution_count": null,
   "id": "electoral-transparency",
   "metadata": {},
   "outputs": [],
   "source": [
    "#broj pobeda pre meca na podlozi na koji se igra za oba protivnika\n",
    "def add_score_surface_before_that_game(df):\n",
    "    df['winner_surface_wins'] = 0\n",
    "    df['loser_surface_wins'] = 0\n",
    "    df['winner_surface_games'] = 0\n",
    "    df['loser_surface_games'] = 0\n",
    "    player_surface = dict()\n",
    "    for ind, row in df.iterrows():\n",
    "        winner = row['winner_id']\n",
    "        loser  = row['loser_id']\n",
    "        surface = row['surface']\n",
    "        if winner not in player_surface:\n",
    "            player_surface[winner] = {'Hard_w': 0, 'Carpet_w': 0, 'Clay_w': 0, 'Grass_w': 0,'Hard_p': 0, 'Carpet_p': 0, 'Clay_p': 0, 'Grass_p': 0}\n",
    "        else:\n",
    "            player_surface[winner][surface + '_w'] += 1\n",
    "            player_surface[winner][surface + '_p'] += 1\n",
    "        if loser not in player_surface:\n",
    "            player_surface[loser] = {'Hard_w': 0, 'Carpet_w': 0, 'Clay_w': 0, 'Grass_w': 0,'Hard_p': 0, 'Carpet_p': 0, 'Clay_p': 0, 'Grass_p': 0}\n",
    "        else:  \n",
    "            player_surface[loser][surface + '_p'] += 1\n",
    "        df.at[ind, 'winner_surface_wins'] = player_surface[winner][surface + '_w']\n",
    "        df.at[ind, 'winner_surface_games'] = player_surface[winner][surface + '_p']\n",
    "        df.at[ind, 'loser_surface_wins'] = player_surface[loser][surface + '_w']\n",
    "        df.at[ind, 'loser_surface_games'] = player_surface[loser][surface + '_p']\n",
    "    return df"
   ]
  },
  {
   "cell_type": "code",
   "execution_count": null,
   "id": "improving-builder",
   "metadata": {},
   "outputs": [],
   "source": [
    "matches = add_score_surface_before_that_game(matches)"
   ]
  },
  {
   "cell_type": "code",
   "execution_count": null,
   "id": "defensive-lease",
   "metadata": {},
   "outputs": [],
   "source": [
    "#broj pobeda te godine pre meca za oba protivnika\n",
    "def add_year_wins_before_that_game(df):\n",
    "    df['winner_year_wins'] = 0\n",
    "    df['loser_year_wins'] = 0\n",
    "    df['winner_year_games'] = 0\n",
    "    df['loser_year_games'] = 0\n",
    "    player_year = dict()\n",
    "    for ind, row in df.iterrows():\n",
    "        winner = row['winner_id']\n",
    "        loser  = row['loser_id']\n",
    "        year = str(row['year'])\n",
    "        if winner not in player_year:\n",
    "            player_year[winner] = {}\n",
    "            player_year[winner][year + '_w'] = 0 \n",
    "            player_year[winner][year + '_g'] = 0 \n",
    "        else:\n",
    "            if year + '_w' in player_year[winner]:\n",
    "                player_year[winner][year + '_w'] += 1\n",
    "                player_year[winner][year + '_g'] += 1\n",
    "            else:\n",
    "                player_year[winner][year + '_w'] = 0\n",
    "                player_year[winner][year + '_g'] = 0\n",
    "        if loser not in player_year:\n",
    "            player_year[loser] = {}\n",
    "            player_year[loser][year + '_g'] = 0 \n",
    "            player_year[loser][year + '_w'] = 0 \n",
    "        else: \n",
    "            if year + '_w' in player_year[loser]:\n",
    "                player_year[loser][year + '_g'] += 1\n",
    "                player_year[loser][year + '_w'] = 0\n",
    "            else:\n",
    "                player_year[loser][year + '_g'] = 0\n",
    "                player_year[loser][year + '_w'] = 0\n",
    "        df.at[ind, 'winner_year_wins'] = player_year[winner][year + '_w']\n",
    "        df.at[ind, 'winner_year_games'] = player_year[winner][year + '_g']\n",
    "        df.at[ind, 'loser_year_wins'] = player_year[loser][year + '_w']\n",
    "        df.at[ind, 'loser_year_games'] = player_year[loser][year + '_g']\n",
    "    return df"
   ]
  },
  {
   "cell_type": "code",
   "execution_count": null,
   "id": "dental-buddy",
   "metadata": {},
   "outputs": [],
   "source": [
    "matches = add_year_wins_before_that_game(matches)"
   ]
  },
  {
   "cell_type": "code",
   "execution_count": null,
   "id": "subtle-listing",
   "metadata": {},
   "outputs": [],
   "source": [
    "#broj pobeda na tom turniru pre meca za oba protivnika\n",
    "def add_tournament_wins_before_that_game(df):\n",
    "    df['winner_tournament_wins'] = 0\n",
    "    df['loser_tournament_wins'] = 0\n",
    "    df['winner_tournament_games'] = 0\n",
    "    df['loser_tournamnet_games'] = 0\n",
    "    player_tournament = dict()\n",
    "    for ind, row in df.iterrows():\n",
    "        winner = row['winner_id']\n",
    "        loser  = row['loser_id']\n",
    "        tournament = (row['tourney_name'])\n",
    "        if winner not in player_tournament:\n",
    "            player_tournament[winner] = {}\n",
    "            player_tournament[winner][tournament + '_w'] = 0 \n",
    "            player_tournament[winner][tournament + '_g'] = 0 \n",
    "        else:\n",
    "            if tournament + '_w' in player_tournament[winner]:\n",
    "                player_tournament[winner][tournament + '_w'] += 1\n",
    "                player_tournament[winner][tournament + '_g'] += 1\n",
    "            else:\n",
    "                player_tournament[winner][tournament + '_w'] = 0\n",
    "                player_tournament[winner][tournament + '_g'] = 0\n",
    "        if loser not in player_tournament:\n",
    "            player_tournament[loser] = {}\n",
    "            player_tournament[loser][tournament + '_g'] = 0 \n",
    "            player_tournament[loser][tournament + '_w'] = 0 \n",
    "        else: \n",
    "            if  tournament + '_w' in player_tournament[loser]:\n",
    "                player_tournament[loser][tournament + '_g'] += 1\n",
    "                player_tournament[loser][tournament + '_w'] = 0\n",
    "            else:\n",
    "                player_tournament[loser][tournament + '_g'] = 0\n",
    "                player_tournament[loser][tournament + '_w'] = 0\n",
    "        df.at[ind, 'winner_tournament_wins'] = player_tournament[winner][tournament + '_w']\n",
    "        df.at[ind, 'winner_tournament_games'] = player_tournament[winner][tournament + '_g']\n",
    "        df.at[ind, 'loser_tournament_wins'] = player_tournament[loser][tournament + '_w']\n",
    "        df.at[ind, 'loser_tournament_games'] = player_tournament[loser][tournament + '_g']\n",
    "    return df"
   ]
  },
  {
   "cell_type": "code",
   "execution_count": null,
   "id": "arctic-seeking",
   "metadata": {},
   "outputs": [],
   "source": [
    "matches = add_tournament_wins_before_that_game(matches)"
   ]
  },
  {
   "cell_type": "code",
   "execution_count": null,
   "id": "parallel-nepal",
   "metadata": {},
   "outputs": [],
   "source": [
    "#broj pobeda poslednjih 10 meceva pre meca za oba protivnika\n",
    "def add_last_10_games_before_that_game(df):\n",
    "    df['winner_10_wins'] = 0\n",
    "    df['loser_10_wins'] = 0\n",
    "    player_10 = dict()\n",
    "    for ind, row in df.iterrows():\n",
    "        winner = row['winner_id']\n",
    "        loser  = row['loser_id']\n",
    "        if winner not in player_10:\n",
    "            player_10[winner] = [0,0,0,0,0,0,0,0,0,0]\n",
    "            player_10[winner].pop(0)\n",
    "            player_10[winner].append(1)\n",
    "        else:\n",
    "            player_10[winner].pop(0)\n",
    "            player_10[winner].append(1)\n",
    "        if loser not in player_10:\n",
    "            player_10[loser] = [0,0,0,0,0,0,0,0,0,0]\n",
    "        else:\n",
    "            player_10[loser].pop(0)\n",
    "            player_10[loser].append(0)\n",
    "        df.at[ind, 'winner_10_wins'] = sum(player_10[winner])\n",
    "        df.at[ind, 'loser_10_wins'] = sum(player_10[loser])\n",
    "    return df"
   ]
  },
  {
   "cell_type": "code",
   "execution_count": null,
   "id": "occupational-flower",
   "metadata": {},
   "outputs": [],
   "source": [
    "matches = add_last_10_games_before_that_game(matches)"
   ]
  },
  {
   "cell_type": "code",
   "execution_count": null,
   "id": "confident-commission",
   "metadata": {},
   "outputs": [],
   "source": [
    "#statistika\n",
    "def add_statistic_about_games(df):\n",
    "    df['winner_win%'] = df['winner_wins'] / (df['winner_wins'] + df['winner_loses']) \n",
    "    df['loser_win%'] = df['loser_wins'] / (df['loser_wins'] + df['loser_loses']) \n",
    "    winner_wins = df['winner_win%'].mean()\n",
    "    loser_wins = df['loser_win%'].mean()\n",
    "    df['winner_win%'].fillna(winner_wins, inplace = True)\n",
    "    df['loser_win%'].fillna(loser_wins, inplace = True)\n",
    "    df['winner_h2h%'] = df['winner_h2h'] / (df['winner_h2h'] + df['loser_h2h']) \n",
    "    df['winner_surface%'] = df['winner_surface_wins'] / df['winner_surface_games']\n",
    "    df['loser_surface%'] = df['loser_surface_wins'] / df['loser_surface_games']\n",
    "    winner_h2h = df['winner_h2h%'].mean()\n",
    "    winner_surface = df['winner_surface%'].mean()\n",
    "    loser_surface = df['loser_surface%'].mean()\n",
    "    df['winner_h2h%'].fillna(winner_h2h, inplace = True)\n",
    "    df['winner_surface%'].fillna(winner_surface, inplace = True)\n",
    "    df['loser_surface%'].fillna(loser_surface, inplace = True)\n",
    "    df['winner_year%'] = df['winner_year_wins'] / df['winner_year_games']\n",
    "    df['loser_year%'] = df['loser_year_wins'] / df['loser_year_games']\n",
    "    winner_year = df['winner_year%'].mean()\n",
    "    loser_year = df['loser_year%'].mean()\n",
    "    df['winner_year%'].fillna(winner_year, inplace = True)\n",
    "    df['loser_year%'].fillna(loser_year, inplace = True)\n",
    "    df['winner_tournament%'] = df['winner_tournament_wins'] / df['winner_tournament_games']\n",
    "    df['loser_tournament%'] = df['loser_tournament_wins'] / df['loser_tournament_games']\n",
    "    winner_tournament = df['winner_tournament%'].mean()\n",
    "    loser_tournament = df['loser_tournament%'].mean()\n",
    "    df['winner_tournament%'].fillna(winner_tournament, inplace = True)\n",
    "    df['loser_tournament%'].fillna(loser_tournament, inplace = True)\n",
    "    df['winner_10%'] = df['winner_10_wins'] / 10\n",
    "    df['loser_10%'] = df['loser_10_wins'] / 10\n",
    "    return df"
   ]
  },
  {
   "cell_type": "code",
   "execution_count": null,
   "id": "through-welsh",
   "metadata": {},
   "outputs": [],
   "source": [
    "matches = add_statistic_about_games(matches)"
   ]
  },
  {
   "cell_type": "code",
   "execution_count": null,
   "id": "according-logic",
   "metadata": {},
   "outputs": [],
   "source": [
    "#kolona da li je bolje rankirani pobedio\n",
    "matches['better_rank_win'] = matches['winner_rank'] < matches['loser_rank']"
   ]
  },
  {
   "cell_type": "code",
   "execution_count": null,
   "id": "blind-puppy",
   "metadata": {},
   "outputs": [],
   "source": [
    "matches.columns"
   ]
  },
  {
   "cell_type": "code",
   "execution_count": null,
   "id": "established-medium",
   "metadata": {},
   "outputs": [],
   "source": [
    "matches_train = matches[matches.year !=2021]\n",
    "matches_test =  matches[matches.year ==2021]"
   ]
  },
  {
   "cell_type": "code",
   "execution_count": null,
   "id": "answering-latex",
   "metadata": {},
   "outputs": [],
   "source": [
    "X_train = matches_train[['winner_ht','winner_age',\n",
    "       'loser_ht','loser_age', 'winner_rank_points',  'loser_rank_points', 'winner_win%', 'loser_win%','winner_h2h%', 'winner_surface%', 'loser_surface%','winner_year%','loser_year%','winner_tournament%','loser_tournament%', 'winner_10%','loser_10%']]\n",
    "y_train = matches_train['better_rank_win']"
   ]
  },
  {
   "cell_type": "code",
   "execution_count": null,
   "id": "wound-newport",
   "metadata": {},
   "outputs": [],
   "source": [
    "X_test = matches_test[['winner_ht','winner_age',\n",
    "       'loser_ht','loser_age', 'winner_rank_points',  'loser_rank_points', 'winner_win%', 'loser_win%','winner_h2h%', 'winner_surface%', 'loser_surface%','winner_year%','loser_year%','winner_tournament%','loser_tournament%', 'winner_10%','loser_10%']]\n",
    "y_test = matches_test['better_rank_win']"
   ]
  },
  {
   "cell_type": "code",
   "execution_count": null,
   "id": "massive-triple",
   "metadata": {},
   "outputs": [],
   "source": [
    "scaler = preprocessing.StandardScaler()\n",
    "scaler.fit(X_train)\n",
    "X_train = scaler.transform(X_train)\n",
    "X_test = scaler.transform(X_test)"
   ]
  },
  {
   "cell_type": "code",
   "execution_count": null,
   "id": "double-travel",
   "metadata": {},
   "outputs": [],
   "source": [
    "#trazenje hiperparametara\n",
    "grid_model = ensemble.RandomForestRegressor()"
   ]
  },
  {
   "cell_type": "code",
   "execution_count": null,
   "id": "unavailable-porcelain",
   "metadata": {},
   "outputs": [],
   "source": [
    "hyper_par = {\n",
    "    'n_estimators': range(30,40), \n",
    "    'max_depth': range(1, 20)\n",
    "}"
   ]
  },
  {
   "cell_type": "code",
   "execution_count": null,
   "id": "local-donna",
   "metadata": {},
   "outputs": [],
   "source": [
    "grid = model_selection.GridSearchCV(grid_model, param_grid=hyper_par,cv=3, scoring=\"r2\",n_jobs=-1)\n",
    "grid.fit(X_train, y_train)\n",
    "print(grid.best_score_)\n",
    "print('n_estimators: ', grid.best_params_['n_estimators'], \n",
    "      'max_depth: ', grid.best_params_['max_depth'])"
   ]
  },
  {
   "cell_type": "code",
   "execution_count": null,
   "id": "external-melissa",
   "metadata": {},
   "outputs": [],
   "source": [
    "#primena slucajnih suma sa dobijenim hiperparametrima\n",
    "model_forest = ensemble.RandomForestRegressor(n_estimators=grid.best_params_['n_estimators'], \n",
    "                                       max_depth=grid.best_params_['max_depth'])"
   ]
  },
  {
   "cell_type": "code",
   "execution_count": null,
   "id": "trying-plaintiff",
   "metadata": {},
   "outputs": [],
   "source": [
    "model_forest.fit(X_train, y_train)\n",
    "y_test_predicted = model_forest.predict(X_test)\n",
    "y_train_predicted = model_forest.predict(X_train)"
   ]
  },
  {
   "cell_type": "code",
   "execution_count": null,
   "id": "noble-trustee",
   "metadata": {},
   "outputs": [],
   "source": [
    "print('Test rezulati')\n",
    "print('r2_score: ', metrics.r2_score(y_test, y_test_predicted))\n",
    "print('RMSE: ', metrics.mean_squared_error(y_test, y_test_predicted, squared=False))"
   ]
  },
  {
   "cell_type": "code",
   "execution_count": null,
   "id": "portuguese-corpus",
   "metadata": {},
   "outputs": [],
   "source": [
    "print('Trening rezultati')\n",
    "print('r2_score: ', metrics.r2_score(y_train, y_train_predicted))\n",
    "print('RMSE: ', metrics.mean_squared_error(y_train, y_train_predicted, squared=False))"
   ]
  },
  {
   "cell_type": "code",
   "execution_count": null,
   "id": "ceramic-virus",
   "metadata": {},
   "outputs": [],
   "source": [
    "X = matches[['winner_ht','winner_age', 'loser_ht','loser_age', 'winner_rank_points',  'loser_rank_points', 'winner_win%', 'loser_win%','winner_h2h%', 'winner_surface%', 'loser_surface%','winner_year%','loser_year%','winner_tournament%','loser_tournament%', 'winner_10%','loser_10%']]\n",
    "y = matches['better_rank_win']\n",
    "X_train, X_test, y_train, y_test = model_selection.train_test_split(X,y,test_size=0.33)"
   ]
  },
  {
   "cell_type": "code",
   "execution_count": null,
   "id": "apparent-locator",
   "metadata": {},
   "outputs": [],
   "source": [
    "scaler = preprocessing.StandardScaler()\n",
    "scaler.fit(X_train)\n",
    "X_train = scaler.transform(X_train)\n",
    "X_test = scaler.transform(X_test)"
   ]
  },
  {
   "cell_type": "code",
   "execution_count": null,
   "id": "nutritional-symbol",
   "metadata": {},
   "outputs": [],
   "source": [
    "grid_model = ensemble.RandomForestRegressor()\n",
    "grid = model_selection.GridSearchCV(grid_model, param_grid=hyper_par,cv=3, scoring=\"r2\",n_jobs=-1)\n",
    "\n",
    "grid.fit(X_train, y_train)"
   ]
  },
  {
   "cell_type": "code",
   "execution_count": null,
   "id": "noble-excess",
   "metadata": {},
   "outputs": [],
   "source": [
    "print(grid.best_score_)\n",
    "print('n_estimators: ', grid.best_params_['n_estimators'], \n",
    "      'max_depth: ', grid.best_params_['max_depth'])"
   ]
  },
  {
   "cell_type": "code",
   "execution_count": null,
   "id": "underlying-worker",
   "metadata": {},
   "outputs": [],
   "source": [
    "model_forest.fit(X_train, y_train)\n",
    "y_test_predicted = model_forest.predict(X_test)\n",
    "y_train_predicted = model_forest.predict(X_train)"
   ]
  },
  {
   "cell_type": "code",
   "execution_count": null,
   "id": "suburban-programming",
   "metadata": {},
   "outputs": [],
   "source": [
    "print('Test rezulati')\n",
    "print('r2_score: ', metrics.r2_score(y_test, y_test_predicted))\n",
    "print('RMSE: ', metrics.mean_squared_error(y_test, y_test_predicted, squared=False))"
   ]
  },
  {
   "cell_type": "code",
   "execution_count": null,
   "id": "boring-company",
   "metadata": {},
   "outputs": [],
   "source": [
    "print('Trening rezultati')\n",
    "print('r2_score: ', metrics.r2_score(y_train, y_train_predicted))\n",
    "print('RMSE: ', metrics.mean_squared_error(y_train, y_train_predicted, squared=False))"
   ]
  },
  {
   "cell_type": "code",
   "execution_count": null,
   "id": "immediate-livestock",
   "metadata": {},
   "outputs": [],
   "source": []
  }
 ],
 "metadata": {
  "kernelspec": {
   "display_name": "Python 3",
   "language": "python",
   "name": "python3"
  },
  "language_info": {
   "codemirror_mode": {
    "name": "ipython",
    "version": 3
   },
   "file_extension": ".py",
   "mimetype": "text/x-python",
   "name": "python",
   "nbconvert_exporter": "python",
   "pygments_lexer": "ipython3",
   "version": "3.7.2"
  }
 },
 "nbformat": 4,
 "nbformat_minor": 5
}
