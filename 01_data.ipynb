{
 "cells": [
  {
   "cell_type": "code",
   "execution_count": null,
   "id": "alternative-remove",
   "metadata": {},
   "outputs": [],
   "source": [
    "import pandas as pd\n",
    "import matplotlib.pyplot as plt"
   ]
  },
  {
   "cell_type": "markdown",
   "id": "inner-tours",
   "metadata": {},
   "source": [
    "# Ucitavanje i sredivanje dataseta"
   ]
  },
  {
   "cell_type": "markdown",
   "id": "short-franklin",
   "metadata": {},
   "source": [
    "### Ucitavanje svih excel fajlova u jedan dataframe"
   ]
  },
  {
   "cell_type": "code",
   "execution_count": null,
   "id": "artificial-arctic",
   "metadata": {},
   "outputs": [],
   "source": [
    "new_df = pd.DataFrame()"
   ]
  },
  {
   "cell_type": "code",
   "execution_count": null,
   "id": "undefined-sullivan",
   "metadata": {},
   "outputs": [],
   "source": [
    "for i in range(1998,2022):\n",
    "    df = pd.read_csv('input/atp_matches_' + str(i) + '.csv')\n",
    "    df['year'] = i\n",
    "    new_df = pd.concat([new_df,df], axis=0)\n",
    "new_df.shape"
   ]
  },
  {
   "cell_type": "code",
   "execution_count": null,
   "id": "excited-organ",
   "metadata": {},
   "outputs": [],
   "source": [
    "for i in range(2010,2022):\n",
    "    df = pd.read_csv('input/atp_matches_qual_chall_' + str(i) + '.csv')\n",
    "    df['year'] = i\n",
    "    new_df = pd.concat([new_df,df], axis=0)\n",
    "new_df.shape"
   ]
  },
  {
   "cell_type": "markdown",
   "id": "classical-waters",
   "metadata": {},
   "source": [
    "### Provera nedostajucih vrednosti"
   ]
  },
  {
   "cell_type": "code",
   "execution_count": null,
   "id": "weird-consolidation",
   "metadata": {},
   "outputs": [],
   "source": [
    "new_df.columns"
   ]
  },
  {
   "cell_type": "code",
   "execution_count": null,
   "id": "trained-persian",
   "metadata": {},
   "outputs": [],
   "source": [
    "new_df = new_df[~(new_df['tourney_name'].str.contains('Davis'))]"
   ]
  },
  {
   "cell_type": "code",
   "execution_count": null,
   "id": "dying-suffering",
   "metadata": {},
   "outputs": [],
   "source": [
    "new_df.isna().sum()"
   ]
  },
  {
   "cell_type": "code",
   "execution_count": null,
   "id": "several-cement",
   "metadata": {},
   "outputs": [],
   "source": [
    "surface_list = new_df.surface.unique() #provera podataka o podlozi i brisanje redova sa nedostajucim vrednostima\n",
    "print(surface_list)\n",
    "new_df = new_df.dropna(subset=['surface'])\n",
    "surface_list = new_df.surface.unique()\n",
    "print(surface_list)"
   ]
  },
  {
   "cell_type": "code",
   "execution_count": null,
   "id": "affected-graphics",
   "metadata": {},
   "outputs": [],
   "source": [
    "new_df.draw_size.unique()"
   ]
  },
  {
   "cell_type": "code",
   "execution_count": null,
   "id": "instrumental-today",
   "metadata": {},
   "outputs": [],
   "source": [
    "new_df.loc[new_df['winner_seed'].isna(),'winner_seed'] = 40 #postavljanje reda broja nosioca za one koji nedotaju na 40\n",
    "new_df.loc[new_df['loser_seed'].isna(), 'loser_seed'] = 40"
   ]
  },
  {
   "cell_type": "code",
   "execution_count": null,
   "id": "lightweight-cheat",
   "metadata": {},
   "outputs": [],
   "source": [
    "print(new_df['winner_entry'].unique())\n",
    "new_df.loc[new_df['winner_entry'].isna(), 'winner_entry'] = 'A'\n",
    "new_df.loc[new_df['loser_entry'].isna(), 'loser_entry'] = 'A'"
   ]
  },
  {
   "cell_type": "code",
   "execution_count": null,
   "id": "sealed-location",
   "metadata": {},
   "outputs": [],
   "source": [
    "print(new_df[new_df['winner_hand'].isna()].shape[0])\n",
    "new_df.loc[new_df['winner_hand'].isna(), 'winner_hand'] = 'U'\n",
    "new_df.loc[new_df['loser_hand'].isna(), 'loser_hand'] = 'U'\n",
    "new_df['winner_hand'].unique()"
   ]
  },
  {
   "cell_type": "code",
   "execution_count": null,
   "id": "previous-karma",
   "metadata": {},
   "outputs": [],
   "source": [
    "#postavljanje visine gde nedostaje na na prosecnu visinu pobednika, odnosno gubitnika\n",
    "w_ht = new_df['winner_ht'].mean()\n",
    "print('Prosecna visina pobednika: ' + str(w_ht))\n",
    "new_df.loc[new_df['winner_ht'].isna(), 'winner_ht'] = w_ht\n",
    "l_ht = new_df['loser_ht'].mean()\n",
    "print('Prosecna visina gubitnika: ' + str(l_ht))\n",
    "new_df.loc[new_df['loser_ht'].isna(), 'loser_ht'] = l_ht"
   ]
  },
  {
   "cell_type": "code",
   "execution_count": null,
   "id": "retired-preparation",
   "metadata": {},
   "outputs": [],
   "source": [
    "#postavljanje starosti igraca gde nedostaje na na prosecnu starost pobednika, odnosno gubitnika\n",
    "w_age = new_df['winner_age'].mean() \n",
    "print('Prosecna starost pobdenika: ' + str(w_age))\n",
    "new_df.loc[new_df['winner_age'].isna(), 'winner_age'] = w_age\n",
    "l_age = new_df['loser_age'].mean()\n",
    "print('Prosecna starost gubitnika' + str(l_age))\n",
    "new_df.loc[new_df['loser_age'].isna(), 'loser_age'] = l_age"
   ]
  },
  {
   "cell_type": "code",
   "execution_count": null,
   "id": "coral-camping",
   "metadata": {},
   "outputs": [],
   "source": [
    "#postavljanje ranka na 2000, sto veci rank igrac je losiji\n",
    "new_df.loc[new_df['winner_rank'].isna(), 'winner_rank'] = 2000\n",
    "new_df.loc[new_df['loser_rank'].isna(), 'loser_rank'] = 2000"
   ]
  },
  {
   "cell_type": "code",
   "execution_count": null,
   "id": "literary-yukon",
   "metadata": {},
   "outputs": [],
   "source": [
    "# postavljanje broja bodova na 0\n",
    "new_df.loc[new_df['winner_rank_points'].isna(), 'winner_rank_points'] = 0\n",
    "new_df.loc[new_df['loser_rank_points'].isna(), 'loser_rank_points'] = 0"
   ]
  },
  {
   "cell_type": "code",
   "execution_count": null,
   "id": "executive-charity",
   "metadata": {},
   "outputs": [],
   "source": [
    "# brisanje meceva koji nemaju rezultat\n",
    "new_df.score.unique()\n",
    "new_df = new_df.dropna(subset=['score'])\n",
    "new_df = new_df.loc[new_df['score'] != 'W/O']"
   ]
  },
  {
   "cell_type": "code",
   "execution_count": null,
   "id": "regular-updating",
   "metadata": {},
   "outputs": [],
   "source": [
    "# runda turnira nema nedostajucu vrednost tako da ostaje netaknuta\n",
    "new_df['round'].unique()"
   ]
  },
  {
   "cell_type": "code",
   "execution_count": null,
   "id": "bored-vocabulary",
   "metadata": {},
   "outputs": [],
   "source": [
    "# brisemo meceve koji nemaju duzinu trajanja\n",
    "new_df = new_df.loc[~(new_df['minutes'].isna())]"
   ]
  },
  {
   "cell_type": "code",
   "execution_count": null,
   "id": "excessive-gnome",
   "metadata": {},
   "outputs": [],
   "source": [
    "new_df.isna().sum()"
   ]
  },
  {
   "cell_type": "code",
   "execution_count": null,
   "id": "familiar-signature",
   "metadata": {},
   "outputs": [],
   "source": [
    "# brisemo sve redove gde su ne popunjene numericke vrednosti, broj aseva, duplih gresaka..\n",
    "new_df = new_df.dropna()"
   ]
  },
  {
   "cell_type": "code",
   "execution_count": null,
   "id": "massive-dress",
   "metadata": {},
   "outputs": [],
   "source": [
    "new_df.isna().sum()"
   ]
  },
  {
   "cell_type": "code",
   "execution_count": null,
   "id": "persistent-joseph",
   "metadata": {},
   "outputs": [],
   "source": [
    "new_df.to_csv('new_data/tenis.csv', index=False)"
   ]
  },
  {
   "cell_type": "markdown",
   "id": "comfortable-wedding",
   "metadata": {},
   "source": [
    "### Analiza podataka"
   ]
  },
  {
   "cell_type": "code",
   "execution_count": null,
   "id": "portuguese-camera",
   "metadata": {},
   "outputs": [],
   "source": [
    "#provera koliko pobeda ima Novak Djokovic\n",
    "djokovic_id = new_df[new_df['winner_name'] == 'Novak Djokovic']['winner_id'].unique()[0]  \n",
    "print('Broj pobeda Novaka Djokovica je ' + str(new_df[new_df['winner_id']==djokovic_id].shape[0]))"
   ]
  },
  {
   "cell_type": "code",
   "execution_count": null,
   "id": "fixed-mention",
   "metadata": {},
   "outputs": [],
   "source": [
    "print('Broj razlicitih pobednika je ' + str(new_df['winner_id'].nunique())) #broj igraca koji su odneli pobedu"
   ]
  },
  {
   "cell_type": "code",
   "execution_count": null,
   "id": "joint-antenna",
   "metadata": {},
   "outputs": [],
   "source": [
    "# Poredjenje odnosa ranka i procenat koliko je igraca pobedilo bolje rangiranog\n",
    "print('Broj pobednika sa vecim rangom je  ' + str(new_df[new_df['loser_rank'] < new_df['winner_rank']].shape[0]))\n",
    "print('Broj pobednika sa losijim rangom je ' + str(new_df[new_df['loser_rank'] > new_df['winner_rank']].shape[0]))\n",
    "print('Procenat pobednika sa losijim rangom je ' + str(new_df[new_df['loser_rank'] < new_df['winner_rank']].shape[0] * 100 / new_df.shape[0]))"
   ]
  },
  {
   "cell_type": "code",
   "execution_count": null,
   "id": "external-vatican",
   "metadata": {},
   "outputs": [],
   "source": [
    "y = new_df[['winner_age', 'winner_id']].astype(int).groupby('winner_age').count().plot(kind='bar')"
   ]
  },
  {
   "cell_type": "code",
   "execution_count": null,
   "id": "bottom-professional",
   "metadata": {},
   "outputs": [],
   "source": []
  },
  {
   "cell_type": "code",
   "execution_count": null,
   "id": "complicated-hypothesis",
   "metadata": {},
   "outputs": [],
   "source": []
  },
  {
   "cell_type": "code",
   "execution_count": null,
   "id": "tracked-bulgarian",
   "metadata": {},
   "outputs": [],
   "source": []
  },
  {
   "cell_type": "code",
   "execution_count": null,
   "id": "challenging-consortium",
   "metadata": {},
   "outputs": [],
   "source": []
  }
 ],
 "metadata": {
  "kernelspec": {
   "display_name": "Python 3",
   "language": "python",
   "name": "python3"
  },
  "language_info": {
   "codemirror_mode": {
    "name": "ipython",
    "version": 3
   },
   "file_extension": ".py",
   "mimetype": "text/x-python",
   "name": "python",
   "nbconvert_exporter": "python",
   "pygments_lexer": "ipython3",
   "version": "3.7.2"
  }
 },
 "nbformat": 4,
 "nbformat_minor": 5
}
