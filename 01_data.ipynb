{
 "cells": [
  {
   "cell_type": "code",
   "execution_count": 1,
   "id": "above-onion",
   "metadata": {},
   "outputs": [],
   "source": [
    "import pandas as pd\n",
    "import numpy as np\n",
    "import matplotlib.pyplot as plt"
   ]
  },
  {
   "cell_type": "markdown",
   "id": "related-yield",
   "metadata": {},
   "source": [
    "# Ucitavanje i sredivanje dataseta"
   ]
  },
  {
   "cell_type": "markdown",
   "id": "center-plasma",
   "metadata": {},
   "source": [
    "### Ucitavanje svih excel fajlova u jedan dataframe"
   ]
  },
  {
   "cell_type": "code",
   "execution_count": 2,
   "id": "local-reset",
   "metadata": {},
   "outputs": [],
   "source": [
    "new_df = pd.DataFrame()"
   ]
  },
  {
   "cell_type": "code",
   "execution_count": 3,
   "id": "adverse-repair",
   "metadata": {},
   "outputs": [
    {
     "data": {
      "text/plain": [
       "(72003, 50)"
      ]
     },
     "execution_count": 3,
     "metadata": {},
     "output_type": "execute_result"
    }
   ],
   "source": [
    "for i in range(1998,2022):\n",
    "    df = pd.read_csv('input/atp_matches_' + str(i) + '.csv')\n",
    "    df['year'] = i\n",
    "    new_df = pd.concat([new_df,df], axis=0)\n",
    "new_df.shape"
   ]
  },
  {
   "cell_type": "code",
   "execution_count": 4,
   "id": "accredited-confusion",
   "metadata": {},
   "outputs": [
    {
     "data": {
      "text/plain": [
       "(156633, 50)"
      ]
     },
     "execution_count": 4,
     "metadata": {},
     "output_type": "execute_result"
    }
   ],
   "source": [
    "for i in range(2010,2022):\n",
    "    df = pd.read_csv('input/atp_matches_qual_chall_' + str(i) + '.csv')\n",
    "    df['year'] = i\n",
    "    new_df = pd.concat([new_df,df], axis=0)\n",
    "new_df.shape"
   ]
  },
  {
   "cell_type": "markdown",
   "id": "confident-mineral",
   "metadata": {},
   "source": [
    "### Provera nedostajucih vrednosti"
   ]
  },
  {
   "cell_type": "code",
   "execution_count": 5,
   "id": "animal-afternoon",
   "metadata": {},
   "outputs": [
    {
     "data": {
      "text/plain": [
       "Index(['tourney_id', 'tourney_name', 'surface', 'draw_size', 'tourney_level',\n",
       "       'tourney_date', 'match_num', 'winner_id', 'winner_seed', 'winner_entry',\n",
       "       'winner_name', 'winner_hand', 'winner_ht', 'winner_ioc', 'winner_age',\n",
       "       'loser_id', 'loser_seed', 'loser_entry', 'loser_name', 'loser_hand',\n",
       "       'loser_ht', 'loser_ioc', 'loser_age', 'score', 'best_of', 'round',\n",
       "       'minutes', 'w_ace', 'w_df', 'w_svpt', 'w_1stIn', 'w_1stWon', 'w_2ndWon',\n",
       "       'w_SvGms', 'w_bpSaved', 'w_bpFaced', 'l_ace', 'l_df', 'l_svpt',\n",
       "       'l_1stIn', 'l_1stWon', 'l_2ndWon', 'l_SvGms', 'l_bpSaved', 'l_bpFaced',\n",
       "       'winner_rank', 'winner_rank_points', 'loser_rank', 'loser_rank_points',\n",
       "       'year'],\n",
       "      dtype='object')"
      ]
     },
     "execution_count": 5,
     "metadata": {},
     "output_type": "execute_result"
    }
   ],
   "source": [
    "new_df.columns"
   ]
  },
  {
   "cell_type": "code",
   "execution_count": 6,
   "id": "composed-senate",
   "metadata": {},
   "outputs": [],
   "source": [
    "new_df = new_df[~(new_df['tourney_name'].str.contains('Davis'))]"
   ]
  },
  {
   "cell_type": "code",
   "execution_count": 7,
   "id": "appreciated-helmet",
   "metadata": {},
   "outputs": [
    {
     "data": {
      "text/plain": [
       "tourney_id                 0\n",
       "tourney_name               0\n",
       "surface                    0\n",
       "draw_size                  0\n",
       "tourney_level              0\n",
       "tourney_date               0\n",
       "match_num                  0\n",
       "winner_id                  0\n",
       "winner_seed            82231\n",
       "winner_entry          130111\n",
       "winner_name                0\n",
       "winner_hand                8\n",
       "winner_ht              42382\n",
       "winner_ioc                 0\n",
       "winner_age                 8\n",
       "loser_id                   0\n",
       "loser_seed            111890\n",
       "loser_entry           115511\n",
       "loser_name                 0\n",
       "loser_hand                42\n",
       "loser_ht               55282\n",
       "loser_ioc                  0\n",
       "loser_age                125\n",
       "score                     15\n",
       "best_of                    0\n",
       "round                      0\n",
       "minutes                 8708\n",
       "w_ace                   4276\n",
       "w_df                    4276\n",
       "w_svpt                  4276\n",
       "w_1stIn                 4276\n",
       "w_1stWon                4276\n",
       "w_2ndWon                4276\n",
       "w_SvGms                 4274\n",
       "w_bpSaved               4276\n",
       "w_bpFaced               4276\n",
       "l_ace                   4276\n",
       "l_df                    4276\n",
       "l_svpt                  4276\n",
       "l_1stIn                 4276\n",
       "l_1stWon                4276\n",
       "l_2ndWon                4276\n",
       "l_SvGms                 4274\n",
       "l_bpSaved               4276\n",
       "l_bpFaced               4276\n",
       "winner_rank              901\n",
       "winner_rank_points       915\n",
       "loser_rank              3753\n",
       "loser_rank_points       3771\n",
       "year                       0\n",
       "dtype: int64"
      ]
     },
     "execution_count": 7,
     "metadata": {},
     "output_type": "execute_result"
    }
   ],
   "source": [
    "new_df.isna().sum()"
   ]
  },
  {
   "cell_type": "code",
   "execution_count": 8,
   "id": "ecological-ballot",
   "metadata": {},
   "outputs": [
    {
     "name": "stdout",
     "output_type": "stream",
     "text": [
      "['Hard' 'Carpet' 'Clay' 'Grass']\n",
      "['Hard' 'Carpet' 'Clay' 'Grass']\n"
     ]
    }
   ],
   "source": [
    "surface_list = new_df.surface.unique() #provera podataka o podlozi i brisanje redova sa nedostajucim vrednostima\n",
    "print(surface_list)\n",
    "new_df = new_df.dropna(subset=['surface'])\n",
    "surface_list = new_df.surface.unique()\n",
    "print(surface_list)"
   ]
  },
  {
   "cell_type": "code",
   "execution_count": 9,
   "id": "macro-remove",
   "metadata": {},
   "outputs": [
    {
     "data": {
      "text/plain": [
       "array([ 32, 128,  48,  56,  96,  64,  16,  12,   8,  28,  24,   9],\n",
       "      dtype=int64)"
      ]
     },
     "execution_count": 9,
     "metadata": {},
     "output_type": "execute_result"
    }
   ],
   "source": [
    "new_df.draw_size.unique()"
   ]
  },
  {
   "cell_type": "code",
   "execution_count": 10,
   "id": "cloudy-qatar",
   "metadata": {},
   "outputs": [],
   "source": [
    "new_df.loc[new_df['winner_seed'].isna(),'winner_seed'] = 40 #postavljanje reda broja nosioca za one koji nedotaju na 40\n",
    "new_df.loc[new_df['loser_seed'].isna(), 'loser_seed'] = 40"
   ]
  },
  {
   "cell_type": "code",
   "execution_count": 11,
   "id": "bored-notebook",
   "metadata": {},
   "outputs": [
    {
     "name": "stdout",
     "output_type": "stream",
     "text": [
      "[nan 'Q' 'WC' 'LL' 'PR' 'SE' 'ALT' 'Alt' 'S' 'AL' '3)' '1)' '6)' '6) A'\n",
      " '5) A' '2) A' 'ITF' 'P' 'I' 'A']\n"
     ]
    }
   ],
   "source": [
    "print(new_df['winner_entry'].unique())\n",
    "new_df.loc[new_df['winner_entry'].isna(), 'winner_entry'] = 'A'\n",
    "new_df.loc[new_df['loser_entry'].isna(), 'loser_entry'] = 'A'"
   ]
  },
  {
   "cell_type": "code",
   "execution_count": 12,
   "id": "finnish-proposal",
   "metadata": {},
   "outputs": [
    {
     "name": "stdout",
     "output_type": "stream",
     "text": [
      "8\n"
     ]
    },
    {
     "data": {
      "text/plain": [
       "array(['R', 'L', 'U'], dtype=object)"
      ]
     },
     "execution_count": 12,
     "metadata": {},
     "output_type": "execute_result"
    }
   ],
   "source": [
    "print(new_df[new_df['winner_hand'].isna()].shape[0])\n",
    "new_df.loc[new_df['winner_hand'].isna(), 'winner_hand'] = 'U'\n",
    "new_df.loc[new_df['loser_hand'].isna(), 'loser_hand'] = 'U'\n",
    "new_df['winner_hand'].unique()"
   ]
  },
  {
   "cell_type": "code",
   "execution_count": 13,
   "id": "canadian-disclosure",
   "metadata": {},
   "outputs": [
    {
     "name": "stdout",
     "output_type": "stream",
     "text": [
      "Prosecna visina pobednika: 185.60925093319184\n",
      "Prosecna visina gubitnika: 185.29204354311466\n"
     ]
    }
   ],
   "source": [
    "#postavljanje visine gde nedostaje na na prosecnu visinu pobednika, odnosno gubitnika\n",
    "w_ht = new_df['winner_ht'].mean()\n",
    "print('Prosecna visina pobednika: ' + str(w_ht))\n",
    "new_df.loc[new_df['winner_ht'].isna(), 'winner_ht'] = w_ht\n",
    "l_ht = new_df['loser_ht'].mean()\n",
    "print('Prosecna visina gubitnika: ' + str(l_ht))\n",
    "new_df.loc[new_df['loser_ht'].isna(), 'loser_ht'] = l_ht"
   ]
  },
  {
   "cell_type": "code",
   "execution_count": 14,
   "id": "mighty-westminster",
   "metadata": {},
   "outputs": [
    {
     "name": "stdout",
     "output_type": "stream",
     "text": [
      "Prosecna starost pobdenika: 26.000386412709297\n",
      "Prosecna starost gubitnika25.85686553617736\n"
     ]
    }
   ],
   "source": [
    "#postavljanje starosti igraca gde nedostaje na na prosecnu starost pobednika, odnosno gubitnika\n",
    "w_age = new_df['winner_age'].mean() \n",
    "print('Prosecna starost pobdenika: ' + str(w_age))\n",
    "new_df.loc[new_df['winner_age'].isna(), 'winner_age'] = w_age\n",
    "l_age = new_df['loser_age'].mean()\n",
    "print('Prosecna starost gubitnika' + str(l_age))\n",
    "new_df.loc[new_df['loser_age'].isna(), 'loser_age'] = l_age"
   ]
  },
  {
   "cell_type": "code",
   "execution_count": 15,
   "id": "romance-preliminary",
   "metadata": {},
   "outputs": [],
   "source": [
    "#postavljanje ranka na 2000, sto veci rank igrac je losiji\n",
    "new_df.loc[new_df['winner_rank'].isna(), 'winner_rank'] = 2000\n",
    "new_df.loc[new_df['loser_rank'].isna(), 'loser_rank'] = 2000"
   ]
  },
  {
   "cell_type": "code",
   "execution_count": 16,
   "id": "indie-discretion",
   "metadata": {},
   "outputs": [],
   "source": [
    "# postavljanje broja bodova na 0\n",
    "new_df.loc[new_df['winner_rank_points'].isna(), 'winner_rank_points'] = 0\n",
    "new_df.loc[new_df['loser_rank_points'].isna(), 'loser_rank_points'] = 0"
   ]
  },
  {
   "cell_type": "code",
   "execution_count": 17,
   "id": "aware-spanking",
   "metadata": {},
   "outputs": [],
   "source": [
    "# brisanje meceva koji nemaju rezultat\n",
    "new_df.score.unique()\n",
    "new_df = new_df.dropna(subset=['score'])\n",
    "new_df = new_df.loc[new_df['score'] != 'W/O']"
   ]
  },
  {
   "cell_type": "code",
   "execution_count": 18,
   "id": "anonymous-extreme",
   "metadata": {},
   "outputs": [
    {
     "data": {
      "text/plain": [
       "array(['R32', 'R16', 'QF', 'SF', 'F', 'R128', 'R64', 'RR', 'BR', 'ER',\n",
       "       'Q1', 'Q2', 'Q3'], dtype=object)"
      ]
     },
     "execution_count": 18,
     "metadata": {},
     "output_type": "execute_result"
    }
   ],
   "source": [
    "# runda turnira nema nedostajucu vrednost tako da ostaje netaknuta\n",
    "new_df['round'].unique()"
   ]
  },
  {
   "cell_type": "code",
   "execution_count": 19,
   "id": "connected-madagascar",
   "metadata": {},
   "outputs": [],
   "source": [
    "# brisemo meceve koji nemaju duzinu trajanja\n",
    "new_df = new_df.loc[~(new_df['minutes'].isna()) & (new_df['minutes']!=0)]"
   ]
  },
  {
   "cell_type": "code",
   "execution_count": 20,
   "id": "hidden-paradise",
   "metadata": {},
   "outputs": [
    {
     "data": {
      "text/plain": [
       "tourney_id              0\n",
       "tourney_name            0\n",
       "surface                 0\n",
       "draw_size               0\n",
       "tourney_level           0\n",
       "tourney_date            0\n",
       "match_num               0\n",
       "winner_id               0\n",
       "winner_seed             0\n",
       "winner_entry            0\n",
       "winner_name             0\n",
       "winner_hand             0\n",
       "winner_ht               0\n",
       "winner_ioc              0\n",
       "winner_age              0\n",
       "loser_id                0\n",
       "loser_seed              0\n",
       "loser_entry             0\n",
       "loser_name              0\n",
       "loser_hand              0\n",
       "loser_ht                0\n",
       "loser_ioc               0\n",
       "loser_age               0\n",
       "score                   0\n",
       "best_of                 0\n",
       "round                   0\n",
       "minutes                 0\n",
       "w_ace                 534\n",
       "w_df                  534\n",
       "w_svpt                534\n",
       "w_1stIn               534\n",
       "w_1stWon              534\n",
       "w_2ndWon              534\n",
       "w_SvGms               534\n",
       "w_bpSaved             534\n",
       "w_bpFaced             534\n",
       "l_ace                 534\n",
       "l_df                  534\n",
       "l_svpt                534\n",
       "l_1stIn               534\n",
       "l_1stWon              534\n",
       "l_2ndWon              534\n",
       "l_SvGms               534\n",
       "l_bpSaved             534\n",
       "l_bpFaced             534\n",
       "winner_rank             0\n",
       "winner_rank_points      0\n",
       "loser_rank              0\n",
       "loser_rank_points       0\n",
       "year                    0\n",
       "dtype: int64"
      ]
     },
     "execution_count": 20,
     "metadata": {},
     "output_type": "execute_result"
    }
   ],
   "source": [
    "new_df.isna().sum()"
   ]
  },
  {
   "cell_type": "code",
   "execution_count": 21,
   "id": "billion-seeker",
   "metadata": {},
   "outputs": [],
   "source": [
    "# brisemo sve redove gde su ne popunjene numericke vrednosti, broj aseva, duplih gresaka..\n",
    "new_df = new_df.dropna()"
   ]
  },
  {
   "cell_type": "code",
   "execution_count": 22,
   "id": "loving-clarity",
   "metadata": {},
   "outputs": [
    {
     "data": {
      "text/plain": [
       "tourney_id            0\n",
       "tourney_name          0\n",
       "surface               0\n",
       "draw_size             0\n",
       "tourney_level         0\n",
       "tourney_date          0\n",
       "match_num             0\n",
       "winner_id             0\n",
       "winner_seed           0\n",
       "winner_entry          0\n",
       "winner_name           0\n",
       "winner_hand           0\n",
       "winner_ht             0\n",
       "winner_ioc            0\n",
       "winner_age            0\n",
       "loser_id              0\n",
       "loser_seed            0\n",
       "loser_entry           0\n",
       "loser_name            0\n",
       "loser_hand            0\n",
       "loser_ht              0\n",
       "loser_ioc             0\n",
       "loser_age             0\n",
       "score                 0\n",
       "best_of               0\n",
       "round                 0\n",
       "minutes               0\n",
       "w_ace                 0\n",
       "w_df                  0\n",
       "w_svpt                0\n",
       "w_1stIn               0\n",
       "w_1stWon              0\n",
       "w_2ndWon              0\n",
       "w_SvGms               0\n",
       "w_bpSaved             0\n",
       "w_bpFaced             0\n",
       "l_ace                 0\n",
       "l_df                  0\n",
       "l_svpt                0\n",
       "l_1stIn               0\n",
       "l_1stWon              0\n",
       "l_2ndWon              0\n",
       "l_SvGms               0\n",
       "l_bpSaved             0\n",
       "l_bpFaced             0\n",
       "winner_rank           0\n",
       "winner_rank_points    0\n",
       "loser_rank            0\n",
       "loser_rank_points     0\n",
       "year                  0\n",
       "dtype: int64"
      ]
     },
     "execution_count": 22,
     "metadata": {},
     "output_type": "execute_result"
    }
   ],
   "source": [
    "new_df.isna().sum()"
   ]
  },
  {
   "cell_type": "code",
   "execution_count": 23,
   "id": "industrial-spectrum",
   "metadata": {},
   "outputs": [],
   "source": [
    "new_df.to_csv('new_data/tenis.csv', index=False)"
   ]
  },
  {
   "cell_type": "markdown",
   "id": "boolean-encyclopedia",
   "metadata": {},
   "source": [
    "### Analiza podataka"
   ]
  },
  {
   "cell_type": "code",
   "execution_count": 24,
   "id": "sixth-conversion",
   "metadata": {},
   "outputs": [
    {
     "name": "stdout",
     "output_type": "stream",
     "text": [
      "Broj pobeda Novaka Djokovica je 896\n"
     ]
    }
   ],
   "source": [
    "#provera koliko pobeda ima Novak Djokovic\n",
    "djokovic_id = new_df[new_df['winner_name'] == 'Novak Djokovic']['winner_id'].unique()[0]  \n",
    "print('Broj pobeda Novaka Djokovica je ' + str(new_df[new_df['winner_id']==djokovic_id].shape[0]))"
   ]
  },
  {
   "cell_type": "code",
   "execution_count": 25,
   "id": "detailed-resistance",
   "metadata": {},
   "outputs": [
    {
     "name": "stdout",
     "output_type": "stream",
     "text": [
      "Broj razlicitih pobednika je 2634\n"
     ]
    }
   ],
   "source": [
    "print('Broj razlicitih pobednika je ' + str(new_df['winner_id'].nunique())) #broj igraca koji su odneli pobedu"
   ]
  },
  {
   "cell_type": "code",
   "execution_count": 26,
   "id": "single-terrain",
   "metadata": {},
   "outputs": [
    {
     "name": "stdout",
     "output_type": "stream",
     "text": [
      "Ukupan broj igraca 29362\n"
     ]
    }
   ],
   "source": [
    "print('Ukupan broj igraca ' + str((new_df['winner_id']+new_df['loser_id']).nunique())) #broj igraca koji su odneli pobedu"
   ]
  },
  {
   "cell_type": "code",
   "execution_count": 27,
   "id": "stuck-career",
   "metadata": {},
   "outputs": [
    {
     "name": "stdout",
     "output_type": "stream",
     "text": [
      "Broj pobednika sa vecim rangom je  90605\n",
      "Broj pobednika sa losijim rangom je 49665\n",
      "Procenat pobednika sa losijim rangom je 64.47377784103038\n"
     ]
    }
   ],
   "source": [
    "# Poredjenje odnosa ranka i procenat koliko je igraca pobedilo bolje rangiranog\n",
    "print('Broj pobednika sa vecim rangom je  ' + str(new_df[new_df['loser_rank'] > new_df['winner_rank']].shape[0]))\n",
    "print('Broj pobednika sa losijim rangom je ' + str(new_df[new_df['loser_rank'] < new_df['winner_rank']].shape[0]))\n",
    "print('Procenat pobednika sa losijim rangom je ' + str(new_df[new_df['loser_rank'] > new_df['winner_rank']].shape[0] * 100 / new_df.shape[0]))\n",
    "\n"
   ]
  },
  {
   "cell_type": "code",
   "execution_count": 28,
   "id": "instrumental-wireless",
   "metadata": {},
   "outputs": [
    {
     "data": {
      "image/png": "[encoded data removed]",
      "text/plain": [
       "<Figure size 432x288 with 1 Axes>"
      ]
     },
     "metadata": {
      "needs_background": "light"
     },
     "output_type": "display_data"
    }
   ],
   "source": [
    "y = new_df[['winner_age', 'winner_id']].astype(int).groupby('winner_age').count().plot(kind='bar', title='Winner per Age')"
   ]
  },
  {
   "cell_type": "code",
   "execution_count": 29,
   "id": "combined-inventory",
   "metadata": {},
   "outputs": [
    {
     "data": {
      "image/png": "[encoded data removed]",
      "text/plain": [
       "<Figure size 432x288 with 1 Axes>"
      ]
     },
     "metadata": {
      "needs_background": "light"
     },
     "output_type": "display_data"
    }
   ],
   "source": [
    "y = new_df[['loser_age', 'loser_id']].astype(int).groupby('loser_age').count().plot(kind='bar', title='Loser per Age')"
   ]
  },
  {
   "cell_type": "code",
   "execution_count": 30,
   "id": "improved-steering",
   "metadata": {},
   "outputs": [
    {
     "data": {
      "image/png": "[encoded data removed]",
      "text/plain": [
       "<Figure size 432x288 with 1 Axes>"
      ]
     },
     "metadata": {},
     "output_type": "display_data"
    }
   ],
   "source": [
    "surface = new_df['surface'].value_counts()\n",
    "def absolute_value(val):\n",
    "    a = int(np.round(val/100.*surface.sum(),0))\n",
    "    return a\n",
    "plt.title('Surface')\n",
    "plt.pie(surface, labels=surface.index, autopct=absolute_value)\n",
    "plt.show()"
   ]
  },
  {
   "cell_type": "code",
   "execution_count": 31,
   "id": "resistant-lover",
   "metadata": {},
   "outputs": [
    {
     "data": {
      "image/png": "[encoded data removed]",
      "text/plain": [
       "<Figure size 432x288 with 1 Axes>"
      ]
     },
     "metadata": {
      "needs_background": "light"
     },
     "output_type": "display_data"
    },
    {
     "name": "stdout",
     "output_type": "stream",
     "text": [
      "Najstariji pobednik 48.974674880200006, najmladji pobednik 14.798083504400001\n",
      "Najstariji gubitnik 53.9329226557, najmladji gubitnik 14.4147843943\n",
      "Najstariji igrac 53.9329226557, najmladji igrac 14.4147843943\n"
     ]
    }
   ],
   "source": [
    "ages_name = ['player', 'winner', 'loser']\n",
    "player_age = sum(new_df['winner_age'].to_list()+new_df['loser_age'].to_list())/len(new_df['winner_age'].to_list()+new_df['loser_age'].to_list())\n",
    "winner_age = (new_df['winner_age']).mean()\n",
    "loser_age = (new_df['loser_age']).mean()\n",
    "ages_size = [player_age, winner_age, loser_age]\n",
    "\n",
    "\n",
    "plt.title('AGE')\n",
    "plt.barh(ages_name,ages_size)\n",
    "for index, value in enumerate(ages_size):\n",
    "    plt.text(value, index, str(value))\n",
    "plt.show()\n",
    "\n",
    "older_winner = (new_df['winner_age']).max()\n",
    "younger_winner =  (new_df['winner_age']).min()\n",
    "\n",
    "older_loser = (new_df['loser_age']).max()\n",
    "younger_loser =  (new_df['loser_age']).min()\n",
    "\n",
    "older_player =max(new_df['winner_age'].to_list()+new_df['loser_age'].to_list())\n",
    "younger_player =min(new_df['winner_age'].to_list()+new_df['loser_age'].to_list())\n",
    "\n",
    "\n",
    "print(f'Najstariji pobednik {older_winner}, najmladji pobednik {younger_winner}')\n",
    "print(f'Najstariji gubitnik {older_loser}, najmladji gubitnik {younger_loser}')\n",
    "print(f'Najstariji igrac {older_player}, najmladji igrac {younger_player}')\n"
   ]
  },
  {
   "cell_type": "code",
   "execution_count": 32,
   "id": "sustainable-bleeding",
   "metadata": {},
   "outputs": [
    {
     "name": "stdout",
     "output_type": "stream",
     "text": [
      "Prosecna duzina 98.85393154486586, maksimalna duzina meca 4756.0, minimalna duzina meca 1.0\n"
     ]
    }
   ],
   "source": [
    "minutes = new_df['minutes'].mean()\n",
    "max_minutes = new_df['minutes'].max()\n",
    "min_minutes = new_df['minutes'].min()\n",
    "\n",
    "\n",
    "print(f'Prosecna duzina {minutes}, maksimalna duzina meca {max_minutes}, minimalna duzina meca {min_minutes}')"
   ]
  },
  {
   "cell_type": "code",
   "execution_count": 33,
   "id": "increased-princess",
   "metadata": {},
   "outputs": [
    {
     "name": "stdout",
     "output_type": "stream",
     "text": [
      "Winner hand\n",
      "R    116757\n",
      "L     18322\n",
      "U      5451\n",
      "Name: winner_hand, dtype: int64\n",
      "Loser hand\n",
      "R    112370\n",
      "L     17886\n",
      "U     10274\n",
      "Name: loser_hand, dtype: int64\n"
     ]
    },
    {
     "data": {
      "image/png": "[encoded data removed]",
      "text/plain": [
       "<Figure size 720x432 with 2 Axes>"
      ]
     },
     "metadata": {},
     "output_type": "display_data"
    }
   ],
   "source": [
    "winner_hand = new_df['winner_hand'].value_counts()\n",
    "loser_hand = new_df['loser_hand'].value_counts()\n",
    "print('Winner hand')\n",
    "print(winner_hand)\n",
    "print('Loser hand')\n",
    "print(loser_hand)\n",
    "plt.figure(figsize=(10,6))\n",
    "plt.subplot(1, 2, 1) \n",
    "plt.title('Winner hand')\n",
    "plt.pie(winner_hand, labels=winner_hand.index, autopct = '%.0f%%')\n",
    "plt.subplot(1, 2, 2) \n",
    "plt.title('Loser hand')\n",
    "plt.pie(loser_hand, labels=loser_hand.index, autopct = '%.0f%%')\n",
    "plt.show()"
   ]
  },
  {
   "cell_type": "code",
   "execution_count": 34,
   "id": "perfect-chicago",
   "metadata": {},
   "outputs": [
    {
     "name": "stdout",
     "output_type": "stream",
     "text": [
      "Igrac sa najvise pobeda Roger Federer\n"
     ]
    }
   ],
   "source": [
    "best = new_df['winner_id'].value_counts().index[0]\n",
    "best_player = new_df.loc[new_df.winner_id == best]['winner_name'].unique()\n",
    "print(f'Igrac sa najvise pobeda {best_player[0]}')"
   ]
  },
  {
   "cell_type": "code",
   "execution_count": 35,
   "id": "otherwise-locator",
   "metadata": {},
   "outputs": [
    {
     "name": "stdout",
     "output_type": "stream",
     "text": [
      "Igrac sa najvise gubitaka Feliciano Lopez\n"
     ]
    }
   ],
   "source": [
    "worst = new_df['loser_id'].value_counts().index[0]\n",
    "worst_player = new_df.loc[new_df.loser_id == worst]['loser_name'].unique()\n",
    "print(f'Igrac sa najvise gubitaka {worst_player[0]}')"
   ]
  },
  {
   "cell_type": "code",
   "execution_count": 36,
   "id": "nervous-verse",
   "metadata": {},
   "outputs": [
    {
     "data": {
      "text/plain": [
       "<BarContainer object of 10 artists>"
      ]
     },
     "execution_count": 36,
     "metadata": {},
     "output_type": "execute_result"
    },
    {
     "data": {
      "image/png": "[encoded data removed]",
      "text/plain": [
       "<Figure size 1440x360 with 1 Axes>"
      ]
     },
     "metadata": {
      "needs_background": "light"
     },
     "output_type": "display_data"
    }
   ],
   "source": [
    "tournament_most = new_df['tourney_name'].value_counts()\n",
    "plt.figure(figsize=(20,5))\n",
    "plt.title('top 10 tournament')\n",
    "plt.bar(tournament_most.index[0:10],tournament_most[0:10])"
   ]
  },
  {
   "cell_type": "code",
   "execution_count": 38,
   "id": "departmental-tobacco",
   "metadata": {},
   "outputs": [
    {
     "data": {
      "text/plain": [
       "<BarContainer object of 10 artists>"
      ]
     },
     "execution_count": 38,
     "metadata": {},
     "output_type": "execute_result"
    },
    {
     "data": {
      "image/png": "[encoded data removed]",
      "text/plain": [
       "<Figure size 1440x360 with 1 Axes>"
      ]
     },
     "metadata": {
      "needs_background": "light"
     },
     "output_type": "display_data"
    }
   ],
   "source": [
    "player_most = new_df['winner_name'].value_counts()\n",
    "plt.figure(figsize=(20,5))\n",
    "plt.title('top 10 player')\n",
    "plt.bar(player_most.index[0:10],player_most[0:10])"
   ]
  },
  {
   "cell_type": "code",
   "execution_count": null,
   "id": "fourth-edwards",
   "metadata": {},
   "outputs": [],
   "source": []
  }
 ],
 "metadata": {
  "kernelspec": {
   "display_name": "Python 3",
   "language": "python",
   "name": "python3"
  },
  "language_info": {
   "codemirror_mode": {
    "name": "ipython",
    "version": 3
   },
   "file_extension": ".py",
   "mimetype": "text/x-python",
   "name": "python",
   "nbconvert_exporter": "python",
   "pygments_lexer": "ipython3",
   "version": "3.7.2"
  }
 },
 "nbformat": 4,
 "nbformat_minor": 5
}
